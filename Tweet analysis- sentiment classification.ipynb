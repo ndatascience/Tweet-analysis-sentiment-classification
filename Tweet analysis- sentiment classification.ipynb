{
 "cells": [
  {
   "cell_type": "markdown",
   "metadata": {},
   "source": [
    "# Tweet Analysis and Sentiment Classfication\n",
    "\n",
    "This project focusses on analysing the tweets of John Siracusa -Programmer, tech writer, and co-host of Accidental Tech Podcast. The data is available in .json format(around 3000 tweets) \n",
    "\n",
    "Goals:\n",
    "### Tweet Analysis\n",
    "- Analysing Tweet growth over days\n",
    "- Most popular tweet\n",
    "- Most popular words and hastags\n",
    "- Co-occuring terms\n",
    "\n",
    "### Sentiment Classification of tweets (postive or negative) using stanford large movie dataset\n",
    "\n",
    "Classifying the tweets by traiing the model using the stanford large movie review datset. http://ai.stanford.edu/~amaas/data/sentiment/\n",
    "This dataset contains movie reviews along with their associated binary sentiment polarity labels. It is intended to serve as a benchmark for sentiment classification. This document outlines how the dataset was gathered, and how to use the files provided. \n",
    "Dataset - The core dataset contains 50,000 reviews split evenly into 25k trainand 25k est sets. The overall distribution of labels is balanced (25kpos and 25k neg). \n",
    "\n",
    "### Topic modeling using LDA\n",
    "Using genism library\n",
    "\n"
   ]
  },
  {
   "cell_type": "code",
   "execution_count": 125,
   "metadata": {
    "collapsed": false
   },
   "outputs": [],
   "source": [
    "import ggplot\n",
    "from ggplot import *\n",
    "import pandas as pd\n",
    "import numpy as np\n",
    "import matplotlib.pylab as plt\n",
    "%matplotlib inline\n",
    "\n",
    "import json\n",
    "from pandas.io.json import json_normalize\n",
    "\n",
    "import os,codecs\n",
    "import string\n",
    "import operator\n",
    "\n",
    "from collections import Counter,defaultdict\n",
    "\n",
    "import nltk\n",
    "from nltk.corpus import stopwords\n",
    "from nltk.tokenize import word_tokenize,TweetTokenizer,sent_tokenize\n",
    "from nltk.stem.porter import PorterStemmer\n",
    "\n",
    "from gensim import corpora,models\n",
    "import gensim\n",
    "\n",
    "from sklearn.feature_extraction.text import CountVectorizer , TfidfTransformer, TfidfVectorizer\n",
    "from sklearn.naive_bayes import MultinomialNB\n",
    "from sklearn.svm import LinearSVC\n",
    "from sklearn.linear_model import LogisticRegression\n",
    "from sklearn.ensemble import RandomForestClassifier\n",
    "\n",
    "from sklearn.pipeline import Pipeline\n",
    "from sklearn.grid_search import GridSearchCV\n",
    "\n",
    "import time\n",
    "from sklearn.metrics import roc_curve\n"
   ]
  },
  {
   "cell_type": "code",
   "execution_count": 196,
   "metadata": {
    "collapsed": false
   },
   "outputs": [],
   "source": [
    "sirac = pd.read_json('data/new_siracusa_tweets.json')"
   ]
  },
  {
   "cell_type": "code",
   "execution_count": 4,
   "metadata": {
    "collapsed": false
   },
   "outputs": [
    {
     "data": {
      "image/png": "[encoded data removed]",
      "text/plain": [
       "<matplotlib.figure.Figure at 0x142a2080>"
      ]
     },
     "metadata": {},
     "output_type": "display_data"
    }
   ],
   "source": [
    "tweets_by_lang = sirac['lang'].value_counts()\n",
    "tweets_by_lang\n",
    "fig, ax = plt.subplots()\n",
    "ax.bar(range(5),tweets_by_lang[:5])\n",
    "ax.set_xlabel('Languages', fontsize=15)\n",
    "ax.set_ylabel('Number of tweets' , fontsize=15)\n",
    "ax.set_title('Top 5 languages', fontsize=15, fontweight='bold')\n",
    "ax.set_xticklabels(tweets_by_lang.index[:5],fontsize=15)\n",
    "plt.show()\n"
   ]
  },
  {
   "cell_type": "markdown",
   "metadata": {
    "collapsed": false
   },
   "source": [
    "### No. of original tweets and retweets "
   ]
  },
  {
   "cell_type": "code",
   "execution_count": 5,
   "metadata": {
    "collapsed": false
   },
   "outputs": [
    {
     "name": "stdout",
     "output_type": "stream",
     "text": [
      "Number of Original Tweets : 2560\n"
     ]
    }
   ],
   "source": [
    "list_of_original_tweets = [element for element in sirac['text'].values if not element.startswith('RT')]\n",
    "print \"Number of Original Tweets : \" + str(len(list_of_original_tweets))\n",
    "\n"
   ]
  },
  {
   "cell_type": "code",
   "execution_count": 6,
   "metadata": {
    "collapsed": false
   },
   "outputs": [
    {
     "name": "stdout",
     "output_type": "stream",
     "text": [
      "Number of Retweets : 656\n"
     ]
    }
   ],
   "source": [
    "list_of_retweets = [element for element in sirac['text'].values if element.startswith('RT')]\n",
    "print \"Number of Retweets : \" + str(len(list_of_retweets))\n"
   ]
  },
  {
   "cell_type": "markdown",
   "metadata": {},
   "source": [
    "### Most retweeted tweet"
   ]
  },
  {
   "cell_type": "code",
   "execution_count": 7,
   "metadata": {
    "collapsed": false
   },
   "outputs": [
    {
     "data": {
      "text/plain": [
       "2205    RT @notch: We were in talks about maybe bringi...\n",
       "Name: text, dtype: object"
      ]
     },
     "execution_count": 7,
     "metadata": {},
     "output_type": "execute_result"
    }
   ],
   "source": [
    "src = pd.DataFrame(sirac['retweet_count'].values).dropna()\n",
    "sirac['text'][src.idxmax().values]\n"
   ]
  },
  {
   "cell_type": "code",
   "execution_count": 8,
   "metadata": {
    "collapsed": false
   },
   "outputs": [
    {
     "name": "stdout",
     "output_type": "stream",
     "text": [
      "Most popular tweet is  RT @notch: We were in talks about maybe bringing a version of Minecraft to Oculus. I just cancelled that deal. Facebook creeps me out.\n"
     ]
    }
   ],
   "source": [
    "print \"Most popular tweet is \" ,sirac.iloc[2205]['text']"
   ]
  },
  {
   "cell_type": "markdown",
   "metadata": {},
   "source": [
    "### Tweet growth over days"
   ]
  },
  {
   "cell_type": "code",
   "execution_count": 9,
   "metadata": {
    "collapsed": false
   },
   "outputs": [],
   "source": [
    "df = pd.DataFrame(sirac['created_at'].value_counts())\n",
    "df['date'] = df.index\n",
    "df.columns = ['Num of tweets','date']"
   ]
  },
  {
   "cell_type": "code",
   "execution_count": 10,
   "metadata": {
    "collapsed": false
   },
   "outputs": [
    {
     "data": {
      "text/html": [
       "<div>\n",
       "<table border=\"1\" class=\"dataframe\">\n",
       "  <thead>\n",
       "    <tr style=\"text-align: right;\">\n",
       "      <th></th>\n",
       "      <th>Num of tweets</th>\n",
       "      <th>days</th>\n",
       "    </tr>\n",
       "    <tr>\n",
       "      <th>days</th>\n",
       "      <th></th>\n",
       "      <th></th>\n",
       "    </tr>\n",
       "  </thead>\n",
       "  <tbody>\n",
       "    <tr>\n",
       "      <th>2014-02-10</th>\n",
       "      <td>14</td>\n",
       "      <td>2014-02-10</td>\n",
       "    </tr>\n",
       "    <tr>\n",
       "      <th>2014-02-11</th>\n",
       "      <td>50</td>\n",
       "      <td>2014-02-11</td>\n",
       "    </tr>\n",
       "    <tr>\n",
       "      <th>2014-02-12</th>\n",
       "      <td>4</td>\n",
       "      <td>2014-02-12</td>\n",
       "    </tr>\n",
       "    <tr>\n",
       "      <th>2014-02-13</th>\n",
       "      <td>33</td>\n",
       "      <td>2014-02-13</td>\n",
       "    </tr>\n",
       "    <tr>\n",
       "      <th>2014-02-14</th>\n",
       "      <td>13</td>\n",
       "      <td>2014-02-14</td>\n",
       "    </tr>\n",
       "  </tbody>\n",
       "</table>\n",
       "</div>"
      ],
      "text/plain": [
       "            Num of tweets        days\n",
       "days                                 \n",
       "2014-02-10             14  2014-02-10\n",
       "2014-02-11             50  2014-02-11\n",
       "2014-02-12              4  2014-02-12\n",
       "2014-02-13             33  2014-02-13\n",
       "2014-02-14             13  2014-02-14"
      ]
     },
     "execution_count": 10,
     "metadata": {},
     "output_type": "execute_result"
    }
   ],
   "source": [
    "days = [str(item).split(\"T\")[0] for item in df['date'].values]\n",
    "df['days'] = days\n",
    "tweet_growth = df[['days', 'Num of tweets']].groupby('days').sum()\n",
    "tweet_growth['days']= tweet_growth.index\n",
    "tweet_growth.head()"
   ]
  },
  {
   "cell_type": "code",
   "execution_count": 11,
   "metadata": {
    "collapsed": false,
    "scrolled": true
   },
   "outputs": [
    {
     "data": {
      "image/png": "[encoded data removed]",
      "text/plain": [
       "<matplotlib.figure.Figure at 0x142c0080>"
      ]
     },
     "metadata": {},
     "output_type": "display_data"
    }
   ],
   "source": [
    "import numpy as np\n",
    "fig, ax = plt.subplots(1,figsize=(20,4))\n",
    "x_pos = np.arange(len(tweet_growth['days'].values))\n",
    "ax.bar(x_pos, tweet_growth['Num of tweets'].values, align='center')\n",
    "ax.set_xticks(x_pos[0:len(tweet_growth):5])\n",
    "ax.set_title('Tweets growth')\n",
    "ax.set_ylabel(\"number tweets\")\n",
    "ax.set_xlabel(\"Days\")\n",
    "ax.set_xticklabels(tweet_growth['days'].values[0:len(tweet_growth):5],rotation = 90)\n",
    "plt.show()"
   ]
  },
  {
   "cell_type": "markdown",
   "metadata": {},
   "source": [
    "#### Preprocessing the data\n",
    "Processing the data by removing tags,stopwords,punctuation."
   ]
  },
  {
   "cell_type": "code",
   "execution_count": 98,
   "metadata": {
    "collapsed": false
   },
   "outputs": [],
   "source": [
    "p_stemmer = PorterStemmer()\n",
    "punctuation = list(string.punctuation)\n",
    "stop = stopwords.words('english') + punctuation + ['rt', 'via']\n",
    "tknz = TweetTokenizer()\n",
    "\n",
    "def preprocess_data(tweet):\n",
    "    count_all = Counter()\n",
    "    count_hash = Counter()\n",
    "    count_term_only = Counter()\n",
    "    term_tot=[]\n",
    "\n",
    "    for tw in tweet:\n",
    "        t = tw['text'].encode('ascii','ignore').lower()\n",
    "        # Create a list with all the terms\n",
    "        terms_all  = [term for term in tknz.tokenize(t) if term not in stop]\n",
    "\n",
    "        # Count hashtags only\n",
    "        terms_hash = [term for term in tknz.tokenize(t) if term.startswith('#')]\n",
    "        \n",
    "        # Count terms only (no hashtags, no mentions, no urls)\n",
    "        terms_only = [term for term in tknz.tokenize(t) if term not in stop and not term.startswith(('#', '@'))]     \n",
    "        \n",
    "        #stem token\n",
    "        #stem_terms_only = [p_stemmer.stem(i) for i in terms_only]\n",
    "        term_tot.append(' '.join(terms_only))\n",
    "\n",
    "        # Update the counter\n",
    "        count_all.update(terms_all)\n",
    "        count_hash.update(terms_hash)\n",
    "        count_term_only.update(terms_only)\n",
    "    return count_all,count_hash,count_term_only,term_tot \n",
    "\n",
    "#Eg:\n",
    "#print tweet[0]['text']\n",
    "#print word_tokenize(tweet[0]['text']) \n",
    "#print tknz.tokenize(tweet[0]['text'])"
   ]
  },
  {
   "cell_type": "code",
   "execution_count": 99,
   "metadata": {
    "collapsed": false
   },
   "outputs": [],
   "source": [
    "#load json as string\n",
    "tweet = json.load((codecs.open('./new_siracusa_tweets.json', \"r\",\"utf-8\")))\n",
    "count_all,count_hash,count_term_only,term_tot  = preprocess_data(tweet)"
   ]
  },
  {
   "cell_type": "markdown",
   "metadata": {
    "collapsed": false
   },
   "source": [
    "### Most frequent terms [no hastag/ no mentions ]"
   ]
  },
  {
   "cell_type": "code",
   "execution_count": 100,
   "metadata": {
    "collapsed": false
   },
   "outputs": [
    {
     "data": {
      "text/plain": [
       "[(u'like', 168),\n",
       " (u\"it's\", 154),\n",
       " (u\"don't\", 136),\n",
       " (u'think', 124),\n",
       " (u\"i'm\", 110),\n",
       " (u'one', 109),\n",
       " (u'yes', 109),\n",
       " (u'also', 89),\n",
       " (u'apple', 86),\n",
       " (u'maybe', 83)]"
      ]
     },
     "execution_count": 100,
     "metadata": {},
     "output_type": "execute_result"
    }
   ],
   "source": [
    "count_term_only.most_common(10)"
   ]
  },
  {
   "cell_type": "markdown",
   "metadata": {
    "collapsed": true
   },
   "source": [
    "### Most frequent hash tags"
   ]
  },
  {
   "cell_type": "code",
   "execution_count": 101,
   "metadata": {
    "collapsed": false
   },
   "outputs": [
    {
     "data": {
      "text/plain": [
       "[(u'#', 6),\n",
       " (u'#yesallwomen', 4),\n",
       " (u'#oscars', 4),\n",
       " (u'#wwdc', 3),\n",
       " (u'#swift', 2),\n",
       " (u'#wwdc14', 2),\n",
       " (u'#134', 1),\n",
       " (u'#yesall', 1),\n",
       " (u'#topical', 1),\n",
       " (u'#poopchanger', 1)]"
      ]
     },
     "execution_count": 101,
     "metadata": {},
     "output_type": "execute_result"
    }
   ],
   "source": [
    "count_hash.most_common(10)"
   ]
  },
  {
   "cell_type": "markdown",
   "metadata": {},
   "source": [
    "### Co-occurence Words"
   ]
  },
  {
   "cell_type": "code",
   "execution_count": 102,
   "metadata": {
    "collapsed": false
   },
   "outputs": [],
   "source": [
    "def create_comat(tweet,sentimentFlag):\n",
    "    com = defaultdict(lambda : defaultdict(int))\n",
    "\n",
    "    for t in term_tot:\n",
    "        terms_only = t.split( )\n",
    "        # Build co-occurrence matrix\n",
    "        for i in range(len(terms_only)-1):            \n",
    "            for j in range(i+1, len(terms_only)):\n",
    "                w1, w2 = sorted([terms_only[i], terms_only[j]])                \n",
    "                if w1 != w2:\n",
    "                    com[w1][w2] += 1\n",
    "    return com                "
   ]
  },
  {
   "cell_type": "code",
   "execution_count": 103,
   "metadata": {
    "collapsed": false
   },
   "outputs": [
    {
     "data": {
      "text/plain": [
       "[((u\"don't\", u'know'), 32),\n",
       " ((u\"don't\", u'think'), 24),\n",
       " ((u\"i'm\", u'sure'), 23),\n",
       " ((u\"don't\", u'like'), 18),\n",
       " ((u'1', u'2'), 16),\n",
       " ((u'os', u'x'), 16),\n",
       " ((u'star', u'wars'), 15),\n",
       " ((u\"it's\", u'like'), 14),\n",
       " ((u':/', u'http'), 13),\n",
       " ((u\"haven't\", u'yet'), 13)]"
      ]
     },
     "execution_count": 103,
     "metadata": {},
     "output_type": "execute_result"
    }
   ],
   "source": [
    "com = create_comat(tweet,0)\n",
    "com_max = []\n",
    "# For each term, look for the most common co-occurrent terms\n",
    "for t1 in com:\n",
    "    t1_max_terms = sorted(com[t1].items(), key=operator.itemgetter(1), reverse=True)[:5]\n",
    "    for t2, t2_count in t1_max_terms:\n",
    "        com_max.append(((t1, t2), t2_count))\n",
    "# Most frequent co-occurrences\n",
    "terms_max = sorted(com_max, key=operator.itemgetter(1), reverse=True)\n",
    "terms_max[:10]"
   ]
  },
  {
   "cell_type": "markdown",
   "metadata": {},
   "source": [
    "### Sentiment Classification of tweets (postive or negative) using stanford large movie dataset\n",
    "\n",
    "\n"
   ]
  },
  {
   "cell_type": "markdown",
   "metadata": {},
   "source": [
    "### Creating training model using the stanford movie dataset. "
   ]
  },
  {
   "cell_type": "code",
   "execution_count": 22,
   "metadata": {
    "collapsed": false
   },
   "outputs": [],
   "source": [
    "punctuation = list(string.punctuation)\n",
    "stop = stopwords.words('english') + punctuation\n",
    "\n",
    "basedir = './aclImdb/'\n",
    "trainDir = basedir + 'train/'\n",
    "testDir = basedir + 'test/'\n",
    "categories = ['pos','neg']\n",
    "\n",
    "def make_xy(inputDir,categories):\n",
    "    X = []\n",
    "    Y= []\n",
    "    for ind,cat  in enumerate(categories):\n",
    "        currentDir  = inputDir + cat\n",
    "        files  = os.listdir(currentDir)\n",
    "        for f in files:\n",
    "            f = codecs.open(currentDir + '/' + f, 'r','iso8859-1')\n",
    "            if f:\n",
    "                content = f.read().lower()\n",
    "                sen = sent_tokenize(content)\n",
    "                tokens = word_tokenize(str(sen))\n",
    "                tokens_no_sw = [token for token in tokens if token not in stop]\n",
    "\n",
    "                X.append(' '.join(tokens_no_sw))\n",
    "                Y.append(ind)\n",
    "    return X,Y        "
   ]
  },
  {
   "cell_type": "code",
   "execution_count": 23,
   "metadata": {
    "collapsed": false
   },
   "outputs": [],
   "source": [
    "X_train_data,Y_train_data = make_xy(trainDir,categories)\n"
   ]
  },
  {
   "cell_type": "code",
   "execution_count": 24,
   "metadata": {
    "collapsed": false
   },
   "outputs": [],
   "source": [
    "X_test_data,Y_test_data = make_xy(testDir,categories)"
   ]
  },
  {
   "cell_type": "markdown",
   "metadata": {},
   "source": [
    "### Features - Tf-IDf model \n",
    "The naive bag of words model can provide moderate results as it assumpes independence of all the words in the review and does not take word order into account.Hence the model used here is Tf-Idf which asisgns weight to evry word based on its frequecy in the other documents. This way we consider rare words more relevant.\n",
    "\n",
    "##### Addressing the Overfitting\n",
    "It was observed that reducing the feature set to 5000 reduced the overfitting in the training data significantly  while preserving the test accuarcy. So the max_features set is set to 5000. Also using bigrams with unigrams gave better classification scores.  "
   ]
  },
  {
   "cell_type": "code",
   "execution_count": 88,
   "metadata": {
    "collapsed": false
   },
   "outputs": [],
   "source": [
    "vectorizer = TfidfVectorizer(ngram_range= (1, 2),max_features=5000,min_df=1)\n",
    "X_train = vectorizer.fit_transform(X_train_data)\n",
    "X_test = vectorizer.transform(X_test_data)\n",
    "\n",
    "Y_train = np.array(Y_train_data)\n",
    "Y_test = np.array(Y_test_data)\n",
    "\n"
   ]
  },
  {
   "cell_type": "markdown",
   "metadata": {},
   "source": [
    "### Classification Models and Results\n",
    "\n",
    "I have used 3 different classification models here for this binary classification problem:\n",
    "- Naiye Bayes\n",
    "- Logistic Regression\n",
    "- Random Forest\n",
    "\n",
    "I did not opt for Kernelized SVMs as it require the computation of a distance function between each point in the dataset, which is the dominating cost of O(nfeatures×n2observations) and our datast is large. The storage of the distances is a burden on memory, so they're recomputed on the fly. .\n",
    "\n",
    "- Logistic regression seems to perform best in terms of training score of 91.75%, test score of 88.48% and area under the ROC curve. Time to train the model is around 700ms and prediction time is negligible. \n",
    "- Naive Bayes perforemed second best. Train score - 87.1% and test score - 85.1%\n",
    "- Random forest parameters needed tuning else the default model resulted in overfitting. It performed the worst in terms of score,time and area under the curve.\n",
    "\n"
   ]
  },
  {
   "cell_type": "code",
   "execution_count": 89,
   "metadata": {
    "collapsed": false
   },
   "outputs": [],
   "source": [
    "nb_clf  = MultinomialNB(alpha = 1)\n",
    "log_clf = LogisticRegression(C=1)\n",
    "rf_clf  =  RandomForestClassifier(n_estimators=50,max_depth = 20,min_samples_leaf=2)\n",
    "clfs = [\n",
    "    (\"MultinomialNB\", nb_clf),\n",
    "    (\"LogisticRegression\", log_clf),\n",
    "    (\"RandomForestClassifier\", rf_clf)\n",
    "]\n",
    "\n",
    "all_results = None\n",
    "for name, clf in clfs:\n",
    "    tStart = time.time()\n",
    "    clf.fit(X_train, Y_train)\n",
    "    tEnd = time.time()\n",
    "    train_time = tEnd - tStart\n",
    "    \n",
    "    tStart=time.time()\n",
    "    probs = clf.predict_proba(X_test)[:,1]\n",
    "    tEnd=time.time()\n",
    "    predict_time = tEnd - tStart\n",
    "    \n",
    "    fpr, tpr, thresh = roc_curve(Y_test, probs)\n",
    "    train_score = clf.score(X_train, Y_train)\n",
    "    test_score = clf.score(X_test, Y_test)\n",
    "    \n",
    "    results = pd.DataFrame({\n",
    "        \"name\": name,\n",
    "        \"train time\": train_time,\n",
    "        \"predict time\":predict_time,\n",
    "        \"fpr\": fpr,\n",
    "        \"tpr\": tpr,\n",
    "        \"train score\":train_score,\n",
    "        \"test score\": test_score\n",
    "    })\n",
    "    if all_results is None:\n",
    "        all_results = results\n",
    "    else:\n",
    "        all_results = all_results.append(results)"
   ]
  },
  {
   "cell_type": "code",
   "execution_count": 90,
   "metadata": {
    "collapsed": false
   },
   "outputs": [
    {
     "data": {
      "image/png": "[encoded data removed]",
      "text/plain": [
       "<matplotlib.figure.Figure at 0x25501e10>"
      ]
     },
     "metadata": {},
     "output_type": "display_data"
    },
    {
     "data": {
      "text/plain": [
       "<ggplot: (39125466)>"
      ]
     },
     "execution_count": 90,
     "metadata": {},
     "output_type": "execute_result"
    }
   ],
   "source": [
    "ggplot(aes(x='fpr', y='tpr', color='name'), data=all_results) + \\\n",
    "    geom_line() + \\\n",
    "    geom_abline(color=\"black\") + \\\n",
    "    ggtitle(\"Text Classification on Stanford movie dataset\")"
   ]
  },
  {
   "cell_type": "code",
   "execution_count": 91,
   "metadata": {
    "collapsed": false
   },
   "outputs": [
    {
     "data": {
      "text/html": [
       "<div>\n",
       "<table border=\"1\" class=\"dataframe\">\n",
       "  <thead>\n",
       "    <tr style=\"text-align: right;\">\n",
       "      <th></th>\n",
       "      <th>train score</th>\n",
       "      <th>test score</th>\n",
       "      <th>train time</th>\n",
       "      <th>predict time</th>\n",
       "    </tr>\n",
       "    <tr>\n",
       "      <th>name</th>\n",
       "      <th></th>\n",
       "      <th></th>\n",
       "      <th></th>\n",
       "      <th></th>\n",
       "    </tr>\n",
       "  </thead>\n",
       "  <tbody>\n",
       "    <tr>\n",
       "      <th>LogisticRegression</th>\n",
       "      <td>0.91744</td>\n",
       "      <td>0.88428</td>\n",
       "      <td>0.687</td>\n",
       "      <td>0.016</td>\n",
       "    </tr>\n",
       "    <tr>\n",
       "      <th>MultinomialNB</th>\n",
       "      <td>0.87148</td>\n",
       "      <td>0.85148</td>\n",
       "      <td>0.031</td>\n",
       "      <td>0.016</td>\n",
       "    </tr>\n",
       "    <tr>\n",
       "      <th>RandomForestClassifier</th>\n",
       "      <td>0.90656</td>\n",
       "      <td>0.82936</td>\n",
       "      <td>5.807</td>\n",
       "      <td>0.486</td>\n",
       "    </tr>\n",
       "  </tbody>\n",
       "</table>\n",
       "</div>"
      ],
      "text/plain": [
       "                        train score  test score  train time  predict time\n",
       "name                                                                     \n",
       "LogisticRegression          0.91744     0.88428       0.687         0.016\n",
       "MultinomialNB               0.87148     0.85148       0.031         0.016\n",
       "RandomForestClassifier      0.90656     0.82936       5.807         0.486"
      ]
     },
     "execution_count": 91,
     "metadata": {},
     "output_type": "execute_result"
    }
   ],
   "source": [
    "all_results[['train score', 'test score','train time','predict time']].groupby(all_results.name).mean()"
   ]
  },
  {
   "cell_type": "markdown",
   "metadata": {},
   "source": [
    "### Classifying the tweets as postive or negative\n",
    "\n",
    "#### Using the logistic reression model above"
   ]
  },
  {
   "cell_type": "code",
   "execution_count": 92,
   "metadata": {
    "collapsed": true
   },
   "outputs": [],
   "source": [
    "tw_data = vectorizer.transform(term_tot)\n",
    "tw_predict_class = log_clf.predict(tw_data)\n",
    "tw_result = pd.DataFrame({ 'tweet':sirac['text'][50:].values,'Sentiment': tw_predict_class[50:]})\n"
   ]
  },
  {
   "cell_type": "code",
   "execution_count": 166,
   "metadata": {
    "collapsed": false
   },
   "outputs": [
    {
     "data": {
      "text/html": [
       "<div>\n",
       "<table border=\"1\" class=\"dataframe\">\n",
       "  <thead>\n",
       "    <tr style=\"text-align: right;\">\n",
       "      <th></th>\n",
       "      <th>Sentiment</th>\n",
       "      <th>tweet</th>\n",
       "    </tr>\n",
       "  </thead>\n",
       "  <tbody>\n",
       "    <tr>\n",
       "      <th>0</th>\n",
       "      <td>0</td>\n",
       "      <td>Similar, but smaller scale: kart customization UI in MK8 is more cumbersome than it was in DD.</td>\n",
       "    </tr>\n",
       "    <tr>\n",
       "      <th>1</th>\n",
       "      <td>1</td>\n",
       "      <td>Pikmin 3's GamePad control scheme feels like a punishment.  Even the GC control scheme feels more efficient.</td>\n",
       "    </tr>\n",
       "    <tr>\n",
       "      <th>2</th>\n",
       "      <td>0</td>\n",
       "      <td>@johnsiracusa Humor.</td>\n",
       "    </tr>\n",
       "    <tr>\n",
       "      <th>3</th>\n",
       "      <td>1</td>\n",
       "      <td>@jsnell Madness. Think of the poor trash can!</td>\n",
       "    </tr>\n",
       "    <tr>\n",
       "      <th>4</th>\n",
       "      <td>1</td>\n",
       "      <td>@settern One star. Leaves never changed color, fell.</td>\n",
       "    </tr>\n",
       "    <tr>\n",
       "      <th>5</th>\n",
       "      <td>0</td>\n",
       "      <td>@Spacekatgal The PS3 version looks amazing. No need to wait for PS4, I think (though I'll get the PS4 version for longevity anyway).</td>\n",
       "    </tr>\n",
       "    <tr>\n",
       "      <th>6</th>\n",
       "      <td>1</td>\n",
       "      <td>@Spacekatgal If ever there was a last name that sounds like a good fit for an alien. (Is the president an alien? Wait, don't tell me…)</td>\n",
       "    </tr>\n",
       "    <tr>\n",
       "      <th>7</th>\n",
       "      <td>1</td>\n",
       "      <td>@Spacekatgal @jsnell @langsharpe Still too lazy to Google, but from my Twitter feed: https://t.co/OCfydsp0cW</td>\n",
       "    </tr>\n",
       "    <tr>\n",
       "      <th>8</th>\n",
       "      <td>0</td>\n",
       "      <td>@drance @pavanrajam @reneritchie @chockenberry @caseyliss Both California accent things, I think.</td>\n",
       "    </tr>\n",
       "    <tr>\n",
       "      <th>9</th>\n",
       "      <td>1</td>\n",
       "      <td>@reneritchie I think that's just an accent, like @hotdogsladies's \"may-sure\" (measure).</td>\n",
       "    </tr>\n",
       "    <tr>\n",
       "      <th>10</th>\n",
       "      <td>0</td>\n",
       "      <td>@danbenjamin Nobody liked Open Look.</td>\n",
       "    </tr>\n",
       "    <tr>\n",
       "      <th>11</th>\n",
       "      <td>1</td>\n",
       "      <td>RT @eliterrell: @siracusa Presumably he changed his name as a SEO ploy.</td>\n",
       "    </tr>\n",
       "    <tr>\n",
       "      <th>12</th>\n",
       "      <td>1</td>\n",
       "      <td>@blimundus @jsnell @theincomparable Damn, you guessed our big finale!</td>\n",
       "    </tr>\n",
       "    <tr>\n",
       "      <th>13</th>\n",
       "      <td>1</td>\n",
       "      <td>@tjluoma @caseyliss I'm with you.</td>\n",
       "    </tr>\n",
       "    <tr>\n",
       "      <th>14</th>\n",
       "      <td>1</td>\n",
       "      <td>@ejacqui http://t.co/yMW33OBTYN</td>\n",
       "    </tr>\n",
       "    <tr>\n",
       "      <th>15</th>\n",
       "      <td>1</td>\n",
       "      <td>@Spacekatgal @jsnell @langsharpe The PS4 version isn't even out yet, is it?  I don't want to wait…  (Also, play the Left Behind expansion.)</td>\n",
       "    </tr>\n",
       "    <tr>\n",
       "      <th>16</th>\n",
       "      <td>0</td>\n",
       "      <td>@jseifer Not surprised to learn you're wrong about both.</td>\n",
       "    </tr>\n",
       "    <tr>\n",
       "      <th>17</th>\n",
       "      <td>0</td>\n",
       "      <td>@blimundus @jsnell (Also, I really like stories about the end of the world.  See past (and future, I hope) episode of @theincomparable…)</td>\n",
       "    </tr>\n",
       "    <tr>\n",
       "      <th>18</th>\n",
       "      <td>0</td>\n",
       "      <td>@blimundus @jsnell @theincomparable Because it is awesome.</td>\n",
       "    </tr>\n",
       "    <tr>\n",
       "      <th>19</th>\n",
       "      <td>1</td>\n",
       "      <td>@caseyliss I never even heard \"tup-ple\" until WWDC.  \"Too-ple\" for life.</td>\n",
       "    </tr>\n",
       "    <tr>\n",
       "      <th>20</th>\n",
       "      <td>1</td>\n",
       "      <td>So do I just challenge this guy to a duel or… http://t.co/vCeEqoNHJt</td>\n",
       "    </tr>\n",
       "    <tr>\n",
       "      <th>21</th>\n",
       "      <td>0</td>\n",
       "      <td>@StefanVetter Definitely not by me.</td>\n",
       "    </tr>\n",
       "    <tr>\n",
       "      <th>22</th>\n",
       "      <td>1</td>\n",
       "      <td>@ejacqui What an expression…</td>\n",
       "    </tr>\n",
       "    <tr>\n",
       "      <th>23</th>\n",
       "      <td>0</td>\n",
       "      <td>@jrk Yes, but if you're CPU-bound, the GPU will be under-utilized.</td>\n",
       "    </tr>\n",
       "    <tr>\n",
       "      <th>24</th>\n",
       "      <td>1</td>\n",
       "      <td>@yokimbo 👍</td>\n",
       "    </tr>\n",
       "    <tr>\n",
       "      <th>25</th>\n",
       "      <td>1</td>\n",
       "      <td>RT @marco_org: Don’t Go To College http://t.co/s8R1ymlAs3</td>\n",
       "    </tr>\n",
       "    <tr>\n",
       "      <th>26</th>\n",
       "      <td>0</td>\n",
       "      <td>RT @GlennF: What I learned as a father: dogmatism about raising your child(ren) falls away in the face of each child’s needs—or it should.</td>\n",
       "    </tr>\n",
       "    <tr>\n",
       "      <th>27</th>\n",
       "      <td>1</td>\n",
       "      <td>@R____d @davidhellman I have the same question but I don't know the answer.</td>\n",
       "    </tr>\n",
       "    <tr>\n",
       "      <th>28</th>\n",
       "      <td>1</td>\n",
       "      <td>@kkarayannis 👍</td>\n",
       "    </tr>\n",
       "    <tr>\n",
       "      <th>29</th>\n",
       "      <td>0</td>\n",
       "      <td>@kkarayannis Buy it and play it, I hope!</td>\n",
       "    </tr>\n",
       "    <tr>\n",
       "      <th>...</th>\n",
       "      <td>...</td>\n",
       "      <td>...</td>\n",
       "    </tr>\n",
       "    <tr>\n",
       "      <th>3136</th>\n",
       "      <td>1</td>\n",
       "      <td>Faster: 1.9 seconds https://t.co/EP1JTVSOqY …but they're all drinking Red Bull, so the record gets an asterisk. (via @MatthewBriggs1)</td>\n",
       "    </tr>\n",
       "    <tr>\n",
       "      <th>3137</th>\n",
       "      <td>1</td>\n",
       "      <td>RT @aurosan: I love how diverse Fox News is &amp;lt;3 http://t.co/C5HaorkrTa</td>\n",
       "    </tr>\n",
       "    <tr>\n",
       "      <th>3138</th>\n",
       "      <td>1</td>\n",
       "      <td>@MatthewBriggs1 Yeah, but they're all drinking Red Bull, so they get an asterisk in the record book.</td>\n",
       "    </tr>\n",
       "    <tr>\n",
       "      <th>3139</th>\n",
       "      <td>1</td>\n",
       "      <td>&amp;lt;Guido&amp;gt;Peet stop.&amp;lt;/Guido&amp;gt; http://t.co/1ShGNYZZfJ (via @rands)</td>\n",
       "    </tr>\n",
       "    <tr>\n",
       "      <th>3140</th>\n",
       "      <td>0</td>\n",
       "      <td>RT @liza: The web sure has become a strange place. http://t.co/TZpkc6GGgS</td>\n",
       "    </tr>\n",
       "    <tr>\n",
       "      <th>3141</th>\n",
       "      <td>1</td>\n",
       "      <td>RT @MotherJones: More than half of millennials think astrology is science  http://t.co/ELyAT82q8T http://t.co/GckfO9x44w</td>\n",
       "    </tr>\n",
       "    <tr>\n",
       "      <th>3142</th>\n",
       "      <td>0</td>\n",
       "      <td>@cschrader No, but it's on the list for @atpfm.</td>\n",
       "    </tr>\n",
       "    <tr>\n",
       "      <th>3143</th>\n",
       "      <td>0</td>\n",
       "      <td>RT @KANGisMAN: This is beyond cool of @simonpegg to share. Close up detail of first outline for The World's End. http://t.co/zU3rgEky2Q</td>\n",
       "    </tr>\n",
       "    <tr>\n",
       "      <th>3144</th>\n",
       "      <td>1</td>\n",
       "      <td>RT @laurenbeukes: \"I'm not interested.\" Great piece on using the boyfriend excuse. http://t.co/yIWBQ8Y7fj</td>\n",
       "    </tr>\n",
       "    <tr>\n",
       "      <th>3145</th>\n",
       "      <td>1</td>\n",
       "      <td>RT @adamengst: Anyone want an Xserve G5… or 20? Seriously. A friend has stacks of them, as you can see in... http://t.co/cNTXZJTgnV http://…</td>\n",
       "    </tr>\n",
       "    <tr>\n",
       "      <th>3146</th>\n",
       "      <td>0</td>\n",
       "      <td>@ejacqui One step closer to convincing me to Google WTF it is.</td>\n",
       "    </tr>\n",
       "    <tr>\n",
       "      <th>3147</th>\n",
       "      <td>1</td>\n",
       "      <td>@johnroderick You're the sea.</td>\n",
       "    </tr>\n",
       "    <tr>\n",
       "      <th>3148</th>\n",
       "      <td>1</td>\n",
       "      <td>@stormchild No.</td>\n",
       "    </tr>\n",
       "    <tr>\n",
       "      <th>3149</th>\n",
       "      <td>1</td>\n",
       "      <td>RT @waxpancake: Snowden \"used\" a \"computer\" to \"download\" \"data.\" http://t.co/CZnz4yEoPw Is the NYT hiring writers from Zagat?</td>\n",
       "    </tr>\n",
       "    <tr>\n",
       "      <th>3150</th>\n",
       "      <td>0</td>\n",
       "      <td>RT @pvponline: Watching this little boy feel the power of Superman makes me smile - http://t.co/a3SIUcy9po</td>\n",
       "    </tr>\n",
       "    <tr>\n",
       "      <th>3151</th>\n",
       "      <td>0</td>\n",
       "      <td>@Silvano_D Haven't seen it yet.</td>\n",
       "    </tr>\n",
       "    <tr>\n",
       "      <th>3152</th>\n",
       "      <td>1</td>\n",
       "      <td>@gruber I'd say it's verging on poison, like the very worst of all junk food.</td>\n",
       "    </tr>\n",
       "    <tr>\n",
       "      <th>3153</th>\n",
       "      <td>1</td>\n",
       "      <td>@5tu @gruber Addictive.</td>\n",
       "    </tr>\n",
       "    <tr>\n",
       "      <th>3154</th>\n",
       "      <td>0</td>\n",
       "      <td>@donmelton Now I feel bad about calling it out, but you know what I'm usually dealing with (see tweet earlier today)…</td>\n",
       "    </tr>\n",
       "    <tr>\n",
       "      <th>3155</th>\n",
       "      <td>0</td>\n",
       "      <td>@gruber Flappy Bird may be \"genius\" but it is not a good game.</td>\n",
       "    </tr>\n",
       "    <tr>\n",
       "      <th>3156</th>\n",
       "      <td>1</td>\n",
       "      <td>@bradleyland @caseyliss @marcoarment I already both tweeted it and put it in the topics document!</td>\n",
       "    </tr>\n",
       "    <tr>\n",
       "      <th>3157</th>\n",
       "      <td>1</td>\n",
       "      <td>@chockenberry No, I will not help you with your nuts.</td>\n",
       "    </tr>\n",
       "    <tr>\n",
       "      <th>3158</th>\n",
       "      <td>0</td>\n",
       "      <td>@donmelton \"Managers love their metrics\" is the programming version of \"People love their cars\" (which is a 90s movie reference…)</td>\n",
       "    </tr>\n",
       "    <tr>\n",
       "      <th>3159</th>\n",
       "      <td>0</td>\n",
       "      <td>@chockenberry I sincerely hope you're actually writing about the Terminal application, old man…</td>\n",
       "    </tr>\n",
       "    <tr>\n",
       "      <th>3160</th>\n",
       "      <td>1</td>\n",
       "      <td>\"Every methodology works if you measure the right thing.\"  http://t.co/TJwvG0CpJa</td>\n",
       "    </tr>\n",
       "    <tr>\n",
       "      <th>3161</th>\n",
       "      <td>0</td>\n",
       "      <td>RT @theincomparable: Announcing our first spin-off! @TPKill - A podcast in which we play D&amp;amp;D on the Internet for your amusement: http://t.c…</td>\n",
       "    </tr>\n",
       "    <tr>\n",
       "      <th>3162</th>\n",
       "      <td>0</td>\n",
       "      <td>@draftingmachine We recorded one for Episode 2 but it's not out yet.</td>\n",
       "    </tr>\n",
       "    <tr>\n",
       "      <th>3163</th>\n",
       "      <td>0</td>\n",
       "      <td>\"I’ve never seen Blade Runner nor Dune, which from what I gather are similar movies.\" — &amp;lt;Name omitted to protect the guilty&amp;gt;</td>\n",
       "    </tr>\n",
       "    <tr>\n",
       "      <th>3164</th>\n",
       "      <td>1</td>\n",
       "      <td>RT @TPKill: Our web site is alive! http://t.co/S4K6WP7SUE</td>\n",
       "    </tr>\n",
       "    <tr>\n",
       "      <th>3165</th>\n",
       "      <td>1</td>\n",
       "      <td>@derekc Maybe? Not enough to pinpoint a year, let alone a session (though I might have actually attended it).</td>\n",
       "    </tr>\n",
       "  </tbody>\n",
       "</table>\n",
       "<p>3166 rows × 2 columns</p>\n",
       "</div>"
      ],
      "text/plain": [
       "      Sentiment  \\\n",
       "0             0   \n",
       "1             1   \n",
       "2             0   \n",
       "3             1   \n",
       "4             1   \n",
       "5             0   \n",
       "6             1   \n",
       "7             1   \n",
       "8             0   \n",
       "9             1   \n",
       "10            0   \n",
       "11            1   \n",
       "12            1   \n",
       "13            1   \n",
       "14            1   \n",
       "15            1   \n",
       "16            0   \n",
       "17            0   \n",
       "18            0   \n",
       "19            1   \n",
       "20            1   \n",
       "21            0   \n",
       "22            1   \n",
       "23            0   \n",
       "24            1   \n",
       "25            1   \n",
       "26            0   \n",
       "27            1   \n",
       "28            1   \n",
       "29            0   \n",
       "...         ...   \n",
       "3136          1   \n",
       "3137          1   \n",
       "3138          1   \n",
       "3139          1   \n",
       "3140          0   \n",
       "3141          1   \n",
       "3142          0   \n",
       "3143          0   \n",
       "3144          1   \n",
       "3145          1   \n",
       "3146          0   \n",
       "3147          1   \n",
       "3148          1   \n",
       "3149          1   \n",
       "3150          0   \n",
       "3151          0   \n",
       "3152          1   \n",
       "3153          1   \n",
       "3154          0   \n",
       "3155          0   \n",
       "3156          1   \n",
       "3157          1   \n",
       "3158          0   \n",
       "3159          0   \n",
       "3160          1   \n",
       "3161          0   \n",
       "3162          0   \n",
       "3163          0   \n",
       "3164          1   \n",
       "3165          1   \n",
       "\n",
       "                                                                                                                                                 tweet  \n",
       "0                                                       Similar, but smaller scale: kart customization UI in MK8 is more cumbersome than it was in DD.  \n",
       "1                                         Pikmin 3's GamePad control scheme feels like a punishment.  Even the GC control scheme feels more efficient.  \n",
       "2                                                                                                                                 @johnsiracusa Humor.  \n",
       "3                                                                                                        @jsnell Madness. Think of the poor trash can!  \n",
       "4                                                                                                 @settern One star. Leaves never changed color, fell.  \n",
       "5                 @Spacekatgal The PS3 version looks amazing. No need to wait for PS4, I think (though I'll get the PS4 version for longevity anyway).  \n",
       "6               @Spacekatgal If ever there was a last name that sounds like a good fit for an alien. (Is the president an alien? Wait, don't tell me…)  \n",
       "7                                         @Spacekatgal @jsnell @langsharpe Still too lazy to Google, but from my Twitter feed: https://t.co/OCfydsp0cW  \n",
       "8                                                    @drance @pavanrajam @reneritchie @chockenberry @caseyliss Both California accent things, I think.  \n",
       "9                                                              @reneritchie I think that's just an accent, like @hotdogsladies's \"may-sure\" (measure).  \n",
       "10                                                                                                                @danbenjamin Nobody liked Open Look.  \n",
       "11                                                                             RT @eliterrell: @siracusa Presumably he changed his name as a SEO ploy.  \n",
       "12                                                                               @blimundus @jsnell @theincomparable Damn, you guessed our big finale!  \n",
       "13                                                                                                                   @tjluoma @caseyliss I'm with you.  \n",
       "14                                                                                                                     @ejacqui http://t.co/yMW33OBTYN  \n",
       "15         @Spacekatgal @jsnell @langsharpe The PS4 version isn't even out yet, is it?  I don't want to wait…  (Also, play the Left Behind expansion.)  \n",
       "16                                                                                            @jseifer Not surprised to learn you're wrong about both.  \n",
       "17            @blimundus @jsnell (Also, I really like stories about the end of the world.  See past (and future, I hope) episode of @theincomparable…)  \n",
       "18                                                                                          @blimundus @jsnell @theincomparable Because it is awesome.  \n",
       "19                                                                            @caseyliss I never even heard \"tup-ple\" until WWDC.  \"Too-ple\" for life.  \n",
       "20                                                                                So do I just challenge this guy to a duel or… http://t.co/vCeEqoNHJt  \n",
       "21                                                                                                                 @StefanVetter Definitely not by me.  \n",
       "22                                                                                                                        @ejacqui What an expression…  \n",
       "23                                                                                  @jrk Yes, but if you're CPU-bound, the GPU will be under-utilized.  \n",
       "24                                                                                                                                         @yokimbo 👍  \n",
       "25                                                                                           RT @marco_org: Don’t Go To College http://t.co/s8R1ymlAs3  \n",
       "26          RT @GlennF: What I learned as a father: dogmatism about raising your child(ren) falls away in the face of each child’s needs—or it should.  \n",
       "27                                                                         @R____d @davidhellman I have the same question but I don't know the answer.  \n",
       "28                                                                                                                                     @kkarayannis 👍  \n",
       "29                                                                                                            @kkarayannis Buy it and play it, I hope!  \n",
       "...                                                                                                                                                ...  \n",
       "3136             Faster: 1.9 seconds https://t.co/EP1JTVSOqY …but they're all drinking Red Bull, so the record gets an asterisk. (via @MatthewBriggs1)  \n",
       "3137                                                                          RT @aurosan: I love how diverse Fox News is &lt;3 http://t.co/C5HaorkrTa  \n",
       "3138                                              @MatthewBriggs1 Yeah, but they're all drinking Red Bull, so they get an asterisk in the record book.  \n",
       "3139                                                                         &lt;Guido&gt;Peet stop.&lt;/Guido&gt; http://t.co/1ShGNYZZfJ (via @rands)  \n",
       "3140                                                                         RT @liza: The web sure has become a strange place. http://t.co/TZpkc6GGgS  \n",
       "3141                          RT @MotherJones: More than half of millennials think astrology is science  http://t.co/ELyAT82q8T http://t.co/GckfO9x44w  \n",
       "3142                                                                                                   @cschrader No, but it's on the list for @atpfm.  \n",
       "3143           RT @KANGisMAN: This is beyond cool of @simonpegg to share. Close up detail of first outline for The World's End. http://t.co/zU3rgEky2Q  \n",
       "3144                                         RT @laurenbeukes: \"I'm not interested.\" Great piece on using the boyfriend excuse. http://t.co/yIWBQ8Y7fj  \n",
       "3145      RT @adamengst: Anyone want an Xserve G5… or 20? Seriously. A friend has stacks of them, as you can see in... http://t.co/cNTXZJTgnV http://…  \n",
       "3146                                                                                    @ejacqui One step closer to convincing me to Google WTF it is.  \n",
       "3147                                                                                                                     @johnroderick You're the sea.  \n",
       "3148                                                                                                                                   @stormchild No.  \n",
       "3149                    RT @waxpancake: Snowden \"used\" a \"computer\" to \"download\" \"data.\" http://t.co/CZnz4yEoPw Is the NYT hiring writers from Zagat?  \n",
       "3150                                        RT @pvponline: Watching this little boy feel the power of Superman makes me smile - http://t.co/a3SIUcy9po  \n",
       "3151                                                                                                                   @Silvano_D Haven't seen it yet.  \n",
       "3152                                                                     @gruber I'd say it's verging on poison, like the very worst of all junk food.  \n",
       "3153                                                                                                                           @5tu @gruber Addictive.  \n",
       "3154                             @donmelton Now I feel bad about calling it out, but you know what I'm usually dealing with (see tweet earlier today)…  \n",
       "3155                                                                                    @gruber Flappy Bird may be \"genius\" but it is not a good game.  \n",
       "3156                                                 @bradleyland @caseyliss @marcoarment I already both tweeted it and put it in the topics document!  \n",
       "3157                                                                                             @chockenberry No, I will not help you with your nuts.  \n",
       "3158                 @donmelton \"Managers love their metrics\" is the programming version of \"People love their cars\" (which is a 90s movie reference…)  \n",
       "3159                                                   @chockenberry I sincerely hope you're actually writing about the Terminal application, old man…  \n",
       "3160                                                                 \"Every methodology works if you measure the right thing.\"  http://t.co/TJwvG0CpJa  \n",
       "3161  RT @theincomparable: Announcing our first spin-off! @TPKill - A podcast in which we play D&amp;D on the Internet for your amusement: http://t.c…  \n",
       "3162                                                                              @draftingmachine We recorded one for Episode 2 but it's not out yet.  \n",
       "3163                \"I’ve never seen Blade Runner nor Dune, which from what I gather are similar movies.\" — &lt;Name omitted to protect the guilty&gt;  \n",
       "3164                                                                                         RT @TPKill: Our web site is alive! http://t.co/S4K6WP7SUE  \n",
       "3165                                     @derekc Maybe? Not enough to pinpoint a year, let alone a session (though I might have actually attended it).  \n",
       "\n",
       "[3166 rows x 2 columns]"
      ]
     },
     "execution_count": 166,
     "metadata": {},
     "output_type": "execute_result"
    }
   ],
   "source": [
    "pd.options.display.max_colwidth  # default is 50\n",
    "pd.set_option('display.max_colwidth', 200)\n",
    "tw_result"
   ]
  },
  {
   "cell_type": "markdown",
   "metadata": {},
   "source": [
    "## Topic modeling using LDA"
   ]
  },
  {
   "cell_type": "code",
   "execution_count": 148,
   "metadata": {
    "collapsed": false
   },
   "outputs": [],
   "source": [
    "pos=[\"IN\",\"CC\",\"RB\",\"CD\",\"MD\"]\n",
    "texts=[]\n",
    "for term in term_tot:\n",
    "    nn= nltk.pos_tag(term.split())\n",
    "    dt_tags = [t[0] for t in nn if t[1] != pos]\n",
    "    texts.append(dt_tags)"
   ]
  },
  {
   "cell_type": "code",
   "execution_count": 192,
   "metadata": {
    "collapsed": true
   },
   "outputs": [],
   "source": [
    "#turn tokenized documents into id term dictionary\n",
    "\n",
    "texts = [term.split() for term in term_tot]\n",
    "dictionary = corpora.Dictionary(texts)\n",
    "\n",
    "#turn tokenized documents into document term matrix\n",
    "corpus = [dictionary.doc2bow(text) for text in texts]\n",
    "\n",
    "#generate lda model\n",
    "ldamodel = gensim.models.ldamodel.LdaModel(corpus,num_topics=5, id2word=dictionary, passes=50)"
   ]
  },
  {
   "cell_type": "code",
   "execution_count": 197,
   "metadata": {
    "collapsed": false
   },
   "outputs": [
    {
     "name": "stdout",
     "output_type": "stream",
     "text": [
      "[(0, u'0.017*\"don\\'t\" + 0.015*\"it\\'s\" + 0.009*\"i\\'m\" + 0.007*\"also\" + 0.007*\"think\" + 0.006*\"like\" + 0.006*\"know\" + 0.005*\"live\" + 0.005*\"maybe\" + 0.005*\"apple\"'), (1, u'0.011*\"maybe\" + 0.010*\"like\" + 0.006*\"ios\" + 0.005*\"one\" + 0.005*\"really\" + 0.005*\"probably\" + 0.005*\"got\" + 0.004*\"you\\'d\" + 0.004*\"though\" + 0.004*\"video\"'), (2, u'0.020*\"yes\" + 0.007*\"think\" + 0.007*\"never\" + 0.006*\"know\" + 0.006*\"like\" + 0.006*\"don\\'t\" + 0.005*\"it\\'s\" + 0.005*\"read\" + 0.005*\"yet\" + 0.005*\"way\"'), (3, u'0.006*\"people\" + 0.005*\"game\" + 0.005*\"think\" + 0.005*\"like\" + 0.004*\"show\" + 0.004*\"one\" + 0.004*\"thanks\" + 0.004*\"movie\" + 0.003*\"get\" + 0.003*\"also\"'), (4, u'0.008*\"good\" + 0.006*\"one\" + 0.006*\"like\" + 0.005*\"time\" + 0.004*\"even\" + 0.004*\"name\" + 0.004*\"apple\" + 0.004*\"i\\'m\" + 0.004*\"mean\" + 0.003*\"things\"')]\n"
     ]
    }
   ],
   "source": [
    "print(ldamodel.print_topics(num_topics=5, num_words=10))"
   ]
  },
  {
   "cell_type": "markdown",
   "metadata": {
    "collapsed": true
   },
   "source": [
    "### Conclusions\n",
    "- Tweet analysis over a period of 2014-02-10 to 2014-06-09 for John Siracusa is carried out.\n",
    "    - Number of Original Tweets : 2560\n",
    "    - Number of retweets - 656\n",
    "    - Maximum number of tweets ooccured on 05-02-2014\n",
    "    - Most frequent has-tag included #yesallwomen,#oscars,'#wwdc\n",
    "    - Most frequent co-occuring word (\"don't\", 'know'),(\"don't\",'think'),('os', 'x'),('star','wars') \n",
    " \n",
    " \n",
    " - Sentiment Classification of tweets was performed by training the model using stanford large movie datset\n",
    "    - Logistic regression with tf-idf performed best with training accuracy of 88.42%.\n",
    "        - This result is very close to state of art result on this datset.  \n",
    "          http://www.aclweb.org/anthology/W14-2621 N-grams + RbF [91.60 ,89.87]\n",
    "        - Using very simple model like logistic regression we got train and test accuracy  of [91.74, 88.42]\n",
    "        - It was discovered that the accuracy of model depends primarily on feature extraction models.\n",
    "    - Trained model was then used to classify tweets with positive or negative sentiment     \n",
    "    - It should be noticed that not all tweets have positive or negative sentiment. Some tweets are neutral. For such classification we will have to train the model with one more class-'neutral' (3 classes in total).\n",
    "    \n",
    "- Topic modeling on tweets was carried using genism library  \n",
    "    - This need some more work like applying Part of Speech Tag Filter.\n"
   ]
  },
  {
   "cell_type": "code",
   "execution_count": null,
   "metadata": {
    "collapsed": false
   },
   "outputs": [],
   "source": []
  },
  {
   "cell_type": "code",
   "execution_count": null,
   "metadata": {
    "collapsed": true
   },
   "outputs": [],
   "source": []
  }
 ],
 "metadata": {
  "kernelspec": {
   "display_name": "Python 2",
   "language": "python",
   "name": "python2"
  },
  "language_info": {
   "codemirror_mode": {
    "name": "ipython",
    "version": 2
   },
   "file_extension": ".py",
   "mimetype": "text/x-python",
   "name": "python",
   "nbconvert_exporter": "python",
   "pygments_lexer": "ipython2",
   "version": "2.7.13"
  }
 },
 "nbformat": 4,
 "nbformat_minor": 0
}
